"source": [
    "                            Bir dosya yükle\n",
    "                            <input id=\"image-upload-input\" type=\"file\" accept=\"image/* \" onChange={handleFileChange} className=\"sr-only\" />\n",
    "                        </label>\n",
    "                         <p className=\"text-xs text-gray-500\">\n",
    "                            PNG, JPG,  WEBP, AVIF desteklenir.\n",
    "                        </p>\n",
    "                    </div>\n",
     "                </div>\n",
    "            </div>\n",
    "            <div  className=\"grid grid-cols-1 md:grid-cols-2 gap-6\">\n",
    "                 <div>\n",
    "                    <label htmlFor=\"scene-prompt\" className=\"block text-sm font-medium text-gray -300 mb-2\">\n",
    "                        Video Açıklaması\n",
    "                    </label>\n",
    "                     <textarea\n",
    "                        id=\"scene-prompt\"\n",
    "                        value={prompt}\n ",
    "                        onChange={(e) => setPrompt(e.target.value)}\n",
    "                        placeholder=\"Örn : Yürüyen  bir zombi\"\n",
    "                        rows={3}\n",
    "                        className=\"w-full bg -gray-700 border border-gray-600 rounded-md p-3 text-white placeholder-gray -400 focus:ring-2 focus:ring-indigo-500 focus:border-indigo-500 transition\"  \n",
    "                    />\n",
    "                </div>\n",
     "                <div>\n",
    "                    <label className=\"block text-sm font-medium text-gray-300 mb-2\">En Boy  Oranı</label>\n",
    "                    <div className=\"flex space-x-2 md:space-x-4\">\n",
    "                         {[{ label: 'Yatay (16:9)', value: AspectRatio.Landscape }, { label:  'Dikey (Reels/Shorts)', value: AspectRatio.Portrait }].map((option) => (\n ",
    "                        <button key={option.label} onClick={() => setAspectRatio( option.value)} className={`w-full py-2 px-2 text-sm rounded-md transition-colors ${ aspectRatio === option.value ? 'bg-indigo-600 text-white' :  'bg-gray-700 hover:bg-gray-600'}`}>\n",
    "                            {option.label}\n",
    "                        </button>\n",
     "                       ))}\n",
    "                    </div>\n",
    "                </div>\n ",
    "            </div>\n",
    "            <button onClick={handleGenerate} disabled={isLoading || !imageFile} className=\"w-full  bg-indigo-600 hover:bg-indigo-700 disabled:bg-gray-600 disabled:cursor-not- allowed text-white font-bold py-3 px-4 rounded-md transition duration-300 ease-in-out flex  items-center justify-center\">\n",
    "                {isLoading ? <LoadingSpinner message={loading Message} /> : 'Video Oluştur'}\n",
    "            </button>\n",
    "        </ div>\n",
    "        {error && (\n",
    "          <div className=\"text-red-400 bg-red-900/50 p-4 rounded-md mx- auto text-center\">\n",
    "            {error}\n",
    "          </div>\n",
    "        )}\n",
    "      </div>\n",
    "      {videoUrl && (\n",
    "         <div className=\"flex flex-col space-y-4 bg-gray-800 p-6 rounded-lg shadow-lg \">\n",
    "          <video controls className=\"w-full  rounded-lg shadow-md\">\n",

**Building Colab Setup**

I'm structuring the Colab notebook. I'll write Python code to generate project files, handling Vite and dependency installations. I'll modify `geminiService.ts` for Vite, integrate API key management using Colab Secrets, and then build the file structure.

\n\n
**Developing Notebook Implementation**

I'm presently building the `colab.ipynb` file and have defined its core functionality. The notebook is being structured with an introductory cell to guide users, followed by Node.js setup and Python-based file generation, including `vite.config.ts` and `package.json`. There will be dependency installation using `npm`, API key handling with Colab Secrets, and updates to the `geminiService.ts` file. Finally, `localtunnel` will be used to deploy the web application to a public URL.


**Developing the Notebook Plan**

I'm solidifying the Colab notebook's structure and contents. It'll start with an introductory Markdown cell explaining API key setup. Next comes Node.js installation via shell commands. Then, Python will write all project files, including `package.json`, `vite.config.ts`, and core app files, into the Colab environment, setting the stage for installing dependencies and launching the Vite server using `localtunnel` to create a public URL for users.


**Developing Colab Implementation**

I'm now fully immersed in developing the Colab notebook, focusing on the Python script. I will create all project files, handle API keys using Colab Secrets, integrate `geminiService.ts` for Vite, and ensure dependency installation. I am making it so users can launch the app.


I've now finalized the structure and Python code generation in the Colab notebook. The plan incorporates project file generation, dependency installation, Vite integration, and secure API key management using Colab Secrets.


**Developing Notebook Structure**

I'm now writing the Python code to generate project files and manage API keys using Colab Secrets. The primary focus is developing `geminiService.ts` for Vite, dependency installation, and constructing `vite.config.ts`.

**Revising Notebook Implementation**

I'm now revising the Colab notebook strategy. Rather than incorporating Vite, I'll stick to a simpler approach. This will now include creating the project files, setting up a Node.js server to serve the content, and ensuring API key handling is managed using a file.

\n\n
**Developing the Server Logic**

I'm currently structuring the `server.js` file for serving the application. The goal is to provide static content and handle the API key securely. I plan to use Node.js's built-in `http` module. The essential part is serving the `/api/key` endpoint to obtain the key securely from the environment.

\n\n
**Crafting Notebook Changes**

I'm presently building the `colab.ipynb` file and focusing on changes for a no-build approach. I'll modify the script to make a server that can handle all the project files and securely fetch the user's API key from a local file. The `geminiService.ts` will need some small updates to accommodate this approach.

\n\n
**Finalizing Notebook Structure**

I'm currently finalizing the `colab.ipynb` file's structure. I'll build the code for setting up Node.js server, creating a static file server, and integrating secure API key handling to ensure seamless app functionality. I'm removing the parts related to Vite for simplicity.

\n\n
**Revising Implementation**

I'm currently revising the `colab.ipynb` file. The Node.js server will serve the project files, and the API key will be managed through a file. The plan now aims to install the necessary dependencies, write the `server.js` file, and integrate with `localtunnel` for public access.

\n\n
**Adapting Server Setup**

I'm adapting the project to serve the application directly through a simple Node.js server. The updated `colab.ipynb` file will now construct a `server.js` script to serve static files. Also, I'll integrate `localtunnel` to create a public URL.

\n\n
**Rebuilding Project Setup**

I'm revising the setup to simplify the process, focusing on integrating the `server.js` within the Colab notebook. The goal is to create a Node.js server that can correctly handle the files and API key, and provide a convenient way for the user to utilize the web application.


**Building a Robust Plan**

I'm now fully immersed in developing the Colab notebook, focusing on the Python script. I will create all project files, handle API keys using Colab Secrets, integrate `geminiService.ts` for Vite, and ensure dependency installation. I am making it so users can launch the app.


**Implementing Notebook Logic**

I'm now integrating the logic into the Colab notebook, starting by generating the project files, including `package.json`, `vite.config.ts`, and adapting `geminiService.ts` for Vite compatibility. I've designed functions to handle the API key securely. Finally, I'm setting up dependency installation using `npm`.


**Implementing Code Structure**

I'm now writing the Python code to generate project files and manage API keys using Colab Secrets. The primary focus is developing `geminiService.ts` for Vite, dependency installation, and constructing `vite.config.ts`.

**Revising Development Strategy**

I've been working on integrating the Colab notebook, currently aiming for the `colab.ipynb` file. The primary focus involves the Python code for generating project files and integrating a Vite build process. I'm focusing on adapting `geminiService.ts` to use `import.meta.env.VITE_API_KEY` and modifying `VideoGenerator.tsx` for a clean Colab setup.
